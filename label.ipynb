{
 "cells": [
  {
   "cell_type": "code",
   "execution_count": 1,
   "id": "8e7954be",
   "metadata": {},
   "outputs": [
    {
     "name": "stdout",
     "output_type": "stream",
     "text": [
      "Labeled data saved to ./data/test_labeled_data.json\n"
     ]
    }
   ],
   "source": [
    "import json\n",
    "from pathlib import Path\n",
    "\n",
    "# 데이터 라벨링 함수\n",
    "def label_data(image_folder_path):\n",
    "    labeled_data = {'description': [], 'annotations': []}\n",
    "\n",
    "    image_folder = Path(image_folder_path)\n",
    "    for label_type in image_folder.glob(\"*\"):\n",
    "        for image_path in label_type.glob(\"*.jpg\"):\n",
    "            # 이미지 파일의 상대 경로 추출\n",
    "            rel_image_path = image_path.relative_to(image_folder)\n",
    "\n",
    "            # 이미지 파일의 이름에서 .jpg 확장자 제거\n",
    "            image_name = image_path.stem\n",
    "\n",
    "            # 라벨 파일 경로 생성\n",
    "            annotation_path = next(label_type.glob(f\"{image_name}*.json\"), None)  \n",
    "             \n",
    "            \n",
    "            if annotation_path is None:\n",
    "                # 라벨 파일이 없는 경우 스킵\n",
    "                print(f\"Skipping image {image_path}, label file not found in {label_type}\")\n",
    "                continue\n",
    "                \n",
    "            try:\n",
    "                with open(annotation_path, 'rb') as raw_data:\n",
    "                    # 파일을 이진 모드로 열어서 텍스트로 디코딩할 때 변환 문제가 발생하면 replace로 대체\n",
    "                    annotation_data = json.loads(raw_data.read().decode('utf-8', errors='replace'))\n",
    "\n",
    "                # 여기서 라벨 데이터 형식에 맞게 필요한 정보 추출\n",
    "                disease_label = annotation_data['annotations']['disease']\n",
    "                bounding_box = annotation_data['annotations']['points']\n",
    "                original_image = annotation_data['description']['image']\n",
    "\n",
    "                labeled_data['description'].append({'image': original_image})\n",
    "                labeled_data['annotations'].append({'image': original_image, 'points': bounding_box, 'disease': disease_label})\n",
    "\n",
    "            except json.JSONDecodeError as e:\n",
    "                # JSON 디코딩 오류가 있는 경우 스킵\n",
    "                print(f\"Skipping image {image_path}, JSON decoding error in label file: {annotation_path}\")\n",
    "                print(f\"Error details: {e}\")\n",
    "                continue\n",
    "\n",
    "    return labeled_data\n",
    "\n",
    "# 라벨링 함수 호출 및 JSON 파일 저장\n",
    "labeled_data = label_data('./data/test/')  # 이미지 데이터 폴더에 맞게 수정\n",
    "output_json_path = './data/test_labeled_data.json'\n",
    "with open(output_json_path, 'w') as f:\n",
    "    json.dump(labeled_data, f, ensure_ascii=False)\n",
    "\n",
    "print(f\"Labeled data saved to {output_json_path}\")\n"
   ]
  },
  {
   "cell_type": "code",
   "execution_count": null,
   "id": "28b76dc9",
   "metadata": {},
   "outputs": [],
   "source": []
  }
 ],
 "metadata": {
  "kernelspec": {
   "display_name": "Python 3 (ipykernel)",
   "language": "python",
   "name": "python3"
  },
  "language_info": {
   "codemirror_mode": {
    "name": "ipython",
    "version": 3
   },
   "file_extension": ".py",
   "mimetype": "text/x-python",
   "name": "python",
   "nbconvert_exporter": "python",
   "pygments_lexer": "ipython3",
   "version": "3.11.5"
  }
 },
 "nbformat": 4,
 "nbformat_minor": 5
}
