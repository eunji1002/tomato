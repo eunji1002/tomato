{
 "cells": [
  {
   "cell_type": "code",
   "execution_count": 1,
   "id": "6cbe51d3",
   "metadata": {},
   "outputs": [],
   "source": [
    "import json\n",
    "from pathlib import Path\n",
    "import torch\n",
    "import torch.nn as nn\n",
    "import torch.optim as optim\n",
    "from torch.utils.data import DataLoader, Dataset\n",
    "from torchvision import transforms\n",
    "from PIL import Image\n",
    "import torch.nn.functional as F"
   ]
  },
  {
   "cell_type": "code",
   "execution_count": 2,
   "id": "9f582bc4",
   "metadata": {},
   "outputs": [],
   "source": [
    "class CustomDataset(Dataset):\n",
    "    def __init__(self, json_path, image_folder, transform=None):\n",
    "        with open(json_path, 'r') as f:\n",
    "            data = json.load(f)\n",
    "\n",
    "        self.image_info_list = data['description']\n",
    "        self.annotations = data['annotations']\n",
    "        self.image_folder = image_folder\n",
    "        self.transform = transform\n",
    "\n",
    "    def __len__(self):\n",
    "        return len(self.image_info_list)\n",
    "\n",
    "    def __getitem__(self, idx):\n",
    "        image_name = self.image_info_list[idx]['image']\n",
    "        image_path = Path(self.image_folder) / image_name\n",
    "\n",
    "        image = Image.open(image_path).convert(\"RGB\")\n",
    "\n",
    "        # 바운딩 박스 좌표 및 질병 정보 가져오기\n",
    "        annotation = next(item for item in self.annotations if item['image'] == image_name)\n",
    "        points_list = annotation[\"points\"]\n",
    "\n",
    "        # 딕셔너리에서 값 가져오기\n",
    "        points = points_list[0]\n",
    "        xtl, ytl, xbr, ybr = points[\"xtl\"], points[\"ytl\"], points[\"xbr\"], points[\"ybr\"]\n",
    "\n",
    "        disease_label = annotation[\"disease\"]\n",
    "\n",
    "        # 필요에 따라 이미지 크기 조정\n",
    "        if self.transform:\n",
    "            image = self.transform(image)\n",
    "\n",
    "        return {\"image\": image, \"bbox\": (xtl, ytl, xbr, ybr), \"disease\": disease_label}\n"
   ]
  },
  {
   "cell_type": "code",
   "execution_count": 3,
   "id": "4bb41ec2",
   "metadata": {},
   "outputs": [],
   "source": [
    "# 모델 정의\n",
    "class TomatoCNN(nn.Module):\n",
    "    def __init__(self, num_classes=20):\n",
    "        super(TomatoCNN, self).__init__()\n",
    "        self.conv1 = nn.Conv2d(3, 16, kernel_size=3, stride=1, padding=1)\n",
    "        self.pool = nn.MaxPool2d(kernel_size=2, stride=2, padding=0)\n",
    "        self.conv2 = nn.Conv2d(16, 32, kernel_size=3, stride=1, padding=1)\n",
    "        self.fc1 = nn.Linear(32 * 56 * 56, 128)\n",
    "        self.fc2 = nn.Linear(128, num_classes)\n",
    "\n",
    "    def forward(self, x):\n",
    "        x = self.pool(F.relu(self.conv1(x)))\n",
    "        x = self.pool(F.relu(self.conv2(x)))\n",
    "        x = x.view(-1, 32 * 56 * 56)\n",
    "        x = F.relu(self.fc1(x))\n",
    "        x = self.fc2(x)\n",
    "        return x"
   ]
  },
  {
   "cell_type": "code",
   "execution_count": 4,
   "id": "99c14b15",
   "metadata": {},
   "outputs": [],
   "source": [
    "# 훈련 데이터셋 및 DataLoader 설정\n",
    "transform = transforms.Compose([\n",
    "    transforms.Resize((224, 224)),\n",
    "    transforms.ToTensor(),\n",
    "    transforms.Normalize((0.5, 0.5, 0.5), (0.5, 0.5, 0.5))\n",
    "])\n",
    "\n",
    "# 훈련 데이터셋 객체 생성\n",
    "train_dataset = CustomDataset('./data/labeled_data.json', './data/train/', transform=transform)\n",
    "# DataLoader 설정\n",
    "train_loader = DataLoader(train_dataset, batch_size=64, shuffle=True, num_workers=0)\n",
    "\n",
    "# 테스트 데이터셋 및 DataLoader 설정\n",
    "test_dataset = CustomDataset('./data/test_labeled_data.json', './data/test/', transform=transform)\n",
    "test_loader = DataLoader(test_dataset, batch_size=64, shuffle=False, num_workers=0)\n"
   ]
  },
  {
   "cell_type": "code",
   "execution_count": 5,
   "id": "ffe70e41",
   "metadata": {},
   "outputs": [],
   "source": [
    "# 모델, 손실 함수, 옵티마이저 설정\n",
    "device = torch.device(\"cuda\" if torch.cuda.is_available() else \"cpu\")\n",
    "model = TomatoCNN(num_classes=20)\n",
    "model.to(device)\n",
    "optimizer = optim.Adam(model.parameters(), lr=0.001)\n",
    "loss_fn = nn.CrossEntropyLoss().to(device)"
   ]
  },
  {
   "cell_type": "code",
   "execution_count": 6,
   "id": "15d13bdb",
   "metadata": {},
   "outputs": [],
   "source": [
    "import os\n",
    "os.environ[\"CUDA_LAUNCH_BLOCKING\"] = \"1\"\n"
   ]
  },
  {
   "cell_type": "code",
   "execution_count": 7,
   "id": "ec1f6a5c",
   "metadata": {},
   "outputs": [],
   "source": [
    "# 훈련과 테스트 손실 및 정확도 저장할 리스트 초기화\n",
    "train_losses = []\n",
    "test_losses = []\n",
    "train_accuracies = []  # 추가\n",
    "test_accuracies = []  # 추가\n",
    "\n",
    "# 훈련 및 평가 함수 수정\n",
    "def train_and_evaluate(model, train_loader, test_loader, loss_fn, optimizer, epochs=5):\n",
    "    for epoch in range(epochs):\n",
    "        # 훈련 단계\n",
    "        model.train()\n",
    "        train_loss, train_correct = 0, 0\n",
    "        for batch_idx, data in enumerate(train_loader):\n",
    "            images, labels = data[\"image\"].to(device), data[\"disease\"].to(device)\n",
    "            bbox = data[\"bbox\"]  # 바운딩 박스 정보\n",
    "\n",
    "            optimizer.zero_grad()\n",
    "            outputs = model(images)\n",
    "            loss = loss_fn(outputs, labels)\n",
    "            loss.backward()\n",
    "            optimizer.step()\n",
    "\n",
    "            train_loss += loss.item()\n",
    "            _, predicted = torch.max(outputs, 1)\n",
    "            train_correct += (predicted == labels).sum().item()\n",
    "\n",
    "            if batch_idx % 100 == 0:\n",
    "                print(f\"Epoch {epoch + 1}, Batch {batch_idx}, Train Loss: {loss.item():.4f}\")\n",
    "\n",
    "        train_loss /= len(train_loader.dataset)\n",
    "        train_accuracy = train_correct / len(train_loader.dataset)\n",
    "        print(f\"Epoch {epoch + 1}, Train Accuracy: {100 * train_accuracy:.2f}%, Average Train Loss: {train_loss:.4f}\")\n",
    "\n",
    "        # 훈련 손실 및 정확도 저장\n",
    "        train_losses.append(train_loss)\n",
    "        train_accuracies.append(train_accuracy)  # 추가\n",
    "\n",
    "        # 테스트 단계 (테스트 데이터셋은 labeled_data.json이 없다고 가정)\n",
    "        model.eval()\n",
    "        test_loss, test_correct = 0, 0\n",
    "        with torch.no_grad():\n",
    "            for data in test_loader:\n",
    "                images, labels = data[\"image\"].to(device), data[\"disease\"].to(device)\n",
    "                bbox = data[\"bbox\"]  # 바운딩 박스 정보\n",
    "\n",
    "                outputs = model(images)\n",
    "                loss = loss_fn(outputs, labels)\n",
    "                test_loss += loss.item()\n",
    "\n",
    "                _, predicted = torch.max(outputs, 1)\n",
    "                test_correct += (predicted == labels).sum().item()\n",
    "\n",
    "        test_loss /= len(test_loader.dataset)\n",
    "        test_accuracy = test_correct / len(test_loader.dataset)\n",
    "        print(f\"Epoch {epoch + 1}, Test Accuracy: {100 * test_accuracy:.2f}%, Average Test Loss: {test_loss:.4f}\")\n",
    "        print(\"=\" * 50)\n",
    "\n",
    "        # 테스트 손실 및 정확도 저장\n",
    "        test_losses.append(test_loss)\n",
    "        test_accuracies.append(test_accuracy)  # 추가"
   ]
  },
  {
   "cell_type": "code",
   "execution_count": 8,
   "id": "e37d0f24",
   "metadata": {},
   "outputs": [
    {
     "name": "stdout",
     "output_type": "stream",
     "text": [
      "Epoch 1, Batch 0, Train Loss: 3.0059\n",
      "Epoch 1, Batch 100, Train Loss: 0.1168\n",
      "Epoch 1, Batch 200, Train Loss: 0.1868\n",
      "Epoch 1, Train Accuracy: 94.43%, Average Train Loss: 0.0029\n",
      "Epoch 1, Test Accuracy: 98.52%, Average Test Loss: 0.0009\n",
      "==================================================\n",
      "Epoch 2, Batch 0, Train Loss: 0.0734\n",
      "Epoch 2, Batch 100, Train Loss: 0.0991\n",
      "Epoch 2, Batch 200, Train Loss: 0.1016\n",
      "Epoch 2, Train Accuracy: 96.55%, Average Train Loss: 0.0016\n",
      "Epoch 2, Test Accuracy: 98.37%, Average Test Loss: 0.0009\n",
      "==================================================\n",
      "Epoch 3, Batch 0, Train Loss: 0.0372\n",
      "Epoch 3, Batch 100, Train Loss: 0.0414\n",
      "Epoch 3, Batch 200, Train Loss: 0.1282\n",
      "Epoch 3, Train Accuracy: 98.06%, Average Train Loss: 0.0009\n",
      "Epoch 3, Test Accuracy: 98.63%, Average Test Loss: 0.0007\n",
      "==================================================\n",
      "Epoch 4, Batch 0, Train Loss: 0.0179\n",
      "Epoch 4, Batch 100, Train Loss: 0.0430\n",
      "Epoch 4, Batch 200, Train Loss: 0.0157\n",
      "Epoch 4, Train Accuracy: 99.09%, Average Train Loss: 0.0004\n",
      "Epoch 4, Test Accuracy: 98.30%, Average Test Loss: 0.0011\n",
      "==================================================\n",
      "Epoch 5, Batch 0, Train Loss: 0.0060\n",
      "Epoch 5, Batch 100, Train Loss: 0.0009\n",
      "Epoch 5, Batch 200, Train Loss: 0.0066\n",
      "Epoch 5, Train Accuracy: 99.75%, Average Train Loss: 0.0001\n",
      "Epoch 5, Test Accuracy: 98.30%, Average Test Loss: 0.0010\n",
      "==================================================\n"
     ]
    }
   ],
   "source": [
    "# 훈련과 평가 실행\n",
    "train_and_evaluate(model, train_loader, test_loader, loss_fn, optimizer, epochs=5)"
   ]
  },
  {
   "cell_type": "code",
   "execution_count": 9,
   "id": "5e3d4161",
   "metadata": {},
   "outputs": [
    {
     "data": {
      "image/png": "[encoded data removed]",
      "text/plain": [
       "<Figure size 1200x400 with 2 Axes>"
      ]
     },
     "metadata": {},
     "output_type": "display_data"
    }
   ],
   "source": [
    "import matplotlib.pyplot as plt\n",
    "\n",
    "# 훈련 및 테스트 손실 및 정확도 그래프 그리기\n",
    "plt.figure(figsize=(12, 4))\n",
    "\n",
    "# 손실 그래프\n",
    "plt.subplot(1, 2, 1)\n",
    "plt.plot(train_losses, label='Train Loss')\n",
    "plt.plot(test_losses, label='Test Loss')\n",
    "plt.xlabel('Epoch')\n",
    "plt.ylabel('Loss')\n",
    "plt.legend()\n",
    "\n",
    "# 정확도 그래프\n",
    "plt.subplot(1, 2, 2)\n",
    "plt.plot(train_accuracies, label='Train Accuracy')  # 추가\n",
    "plt.plot(test_accuracies, label='Test Accuracy')  # 추가\n",
    "plt.xlabel('Epoch')\n",
    "plt.ylabel('Accuracy')\n",
    "plt.legend()\n",
    "\n",
    "plt.show()"
   ]
  },
  {
   "cell_type": "code",
   "execution_count": 10,
   "id": "f1bfe4e4",
   "metadata": {},
   "outputs": [
    {
     "name": "stdout",
     "output_type": "stream",
     "text": [
      "Save PyTorch Model State to model.pth\n"
     ]
    }
   ],
   "source": [
    "import os\n",
    "save_dir = './saved_models'\n",
    "os.makedirs(save_dir, exist_ok=True)\n",
    "model_path = os.path.join(save_dir, 'model.pth')\n",
    "# 학습된 모델 저장 (적절한 경로를 지정하세요)\n",
    "torch.save(model.state_dict(), 'model.pth')\n",
    "print(\"Save PyTorch Model State to model.pth\")"
   ]
  },
  {
   "cell_type": "code",
   "execution_count": null,
   "id": "7bed9115",
   "metadata": {},
   "outputs": [],
   "source": []
  }
 ],
 "metadata": {
  "kernelspec": {
   "display_name": "Python 3 (ipykernel)",
   "language": "python",
   "name": "python3"
  },
  "language_info": {
   "codemirror_mode": {
    "name": "ipython",
    "version": 3
   },
   "file_extension": ".py",
   "mimetype": "text/x-python",
   "name": "python",
   "nbconvert_exporter": "python",
   "pygments_lexer": "ipython3",
   "version": "3.11.5"
  }
 },
 "nbformat": 4,
 "nbformat_minor": 5
}
